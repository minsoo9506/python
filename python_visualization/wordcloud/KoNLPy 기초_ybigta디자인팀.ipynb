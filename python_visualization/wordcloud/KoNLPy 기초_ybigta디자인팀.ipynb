{
 "cells": [
  {
   "cell_type": "markdown",
   "metadata": {},
   "source": [
    "# KoNLPy : 한국어 정보 처리 패키지\n",
    "<br> <br>\n",
    "\n",
    "\n",
    "###### Reference: \n",
    "KoNLPy 홈페이지: https://konlpy-ko.readthedocs.io/ko/v0.5.1/#\n",
    "<br>\n",
    "12기 사이언스팀 하지윤님의 KoNLPy 튜토리얼\n",
    "\n",
    "\n",
    "\n",
    "##  KoNLPy의 기능 : 형태소 분석 및 품사 태깅\n",
    "\n",
    "형태소 분석 : 형태소를 비롯하여 어근, 접두사/접미사, 품사(Part of Speech) 등 다양한 언어적 속성의 구조를 파악 (형태소 : 뜻을 가진 가장 작은 말의 단위)\n",
    "\n",
    "품사 태깅 : 형태소의 뜻과 문맥을 고려하여 품사를 마크업 하는 것\n",
    "\n",
    "가방에 들어가신다 -> 가방/NNG + 에/JKM + 들어가/VV + 시/EPH + ㄴ다/EFN\n"
   ]
  },
  {
   "cell_type": "markdown",
   "metadata": {},
   "source": [
    "## KoNLPy로 형태소 분석하기\n",
    "\n",
    "\n",
    "http://konlpy.org/ko/v0.4.3/morph/\n",
    "\n",
    "KoNLPy는 다섯 가지의 분석기들을 내장하고 있습니다:\n",
    "Hannanum, Kkma, Komoran, Mecab, Okt(Twitter)\n",
    "\n",
    "같은 문장을 입력하더라도 각 분석기가 태깅해서 내는 결과가 다르게 나옵니다.\n",
    "\n",
    "konlpy의 여러 분석기 클래스 중 자신이 쓸 것을 불러와 사용 가능한 인스턴스로 만들어 주어야 합니다. (인스턴스 : 클래스의 정의를 통해 만들어진 객체 - 즉 클래스가 메모리에 할당되어 사용되는 실제의 것)"
   ]
  },
  {
   "cell_type": "code",
   "execution_count": 1,
   "metadata": {
    "collapsed": true
   },
   "outputs": [],
   "source": [
    "import konlpy"
   ]
  },
  {
   "cell_type": "code",
   "execution_count": 2,
   "metadata": {
    "collapsed": true
   },
   "outputs": [],
   "source": [
    "#실제로 문장들을 입력해서 형태소(morpheme) 분석을 해봅시다. \n",
    "sen= \"아버지가 방에 들어가신다\""
   ]
  },
  {
   "cell_type": "code",
   "execution_count": 4,
   "metadata": {
    "collapsed": true
   },
   "outputs": [],
   "source": [
    "#분석기를 선택하여 인스턴스로 만들어주기\n",
    "\n",
    "kkma=konlpy.tag.Kkma()\n",
    "okt=konlpy.tag.Twitter()\n",
    "han=konlpy.tag.Hannanum()"
   ]
  },
  {
   "cell_type": "code",
   "execution_count": 6,
   "metadata": {},
   "outputs": [
    {
     "name": "stdout",
     "output_type": "stream",
     "text": [
      "kkma : ['아버지', '가', '방', '에', '들어가', '시', 'ㄴ다']\n",
      "okt : ['아버지', '가', '방', '에', '들어가신', '다']\n",
      "hannanum : ['아버지', '가', '방', '에', '들', '어', '가', '시ㄴ다']\n"
     ]
    }
   ],
   "source": [
    "#입력한 문장에 대하여 형태소 분석\n",
    "\n",
    "print(\"kkma :\", kkma.morphs(sen)) \n",
    "print(\"okt :\", okt.morphs(sen))\n",
    "print(\"hannanum :\",  han.morphs(sen))"
   ]
  },
  {
   "cell_type": "markdown",
   "metadata": {},
   "source": [
    "## 형태소 분석기 비교\n",
    "\n",
    "같은 문장을 입력해도 형태소, 품사 태깅의 결과가 다르게 나타납니다. 각 분석기가 품사를 어떻게 태깅하는 지를 확인하기 위해서는 \n",
    "\n",
    "https://docs.google.com/spreadsheets/d/1OGAjUvalBuX-oZvZ_-9tEfYD2gQe7hTGsgUpiiBSXI8/edit#gid=0 을 확인하면 됩니다."
   ]
  },
  {
   "cell_type": "code",
   "execution_count": 7,
   "metadata": {
    "scrolled": true
   },
   "outputs": [
    {
     "name": "stdout",
     "output_type": "stream",
     "text": [
      "[('아버지', 'NNG'), ('가', 'JKS'), ('방', 'NNG'), ('에', 'JKM'), ('들어가', 'VV'), ('시', 'EPH'), ('ㄴ다', 'EFN')]\n",
      "[('아버지', 'Noun'), ('가', 'Josa'), ('방', 'Noun'), ('에', 'Josa'), ('들어가신', 'Verb'), ('다', 'Eomi')]\n",
      "[('아버지', 'N'), ('가', 'J'), ('방', 'N'), ('에', 'J'), ('들', 'P'), ('어', 'E'), ('가', 'P'), ('시ㄴ다', 'E')]\n"
     ]
    }
   ],
   "source": [
    "# 입력한 문장에 대하여 품사 태깅\n",
    "print(kkma.pos(sen))\n",
    "print(okt.pos(sen))\n",
    "print(han.pos(sen))"
   ]
  },
  {
   "cell_type": "markdown",
   "metadata": {},
   "source": [
    "## KoNLPy 활용하기 "
   ]
  },
  {
   "cell_type": "code",
   "execution_count": 8,
   "metadata": {},
   "outputs": [
    {
     "name": "stdout",
     "output_type": "stream",
     "text": [
      "['아버지', '방']\n",
      "['아버지', '방']\n",
      "['아버지', '방']\n"
     ]
    }
   ],
   "source": [
    "#입력한 문장의 명사를 리스트로 반환\n",
    "print(kkma.nouns(sen))\n",
    "print(okt.nouns(sen))\n",
    "print(han.nouns(sen))"
   ]
  },
  {
   "cell_type": "code",
   "execution_count": 1,
   "metadata": {},
   "outputs": [],
   "source": [
    "text=open(\"korcon.txt\", encoding=\"utf-8\").read()"
   ]
  },
  {
   "cell_type": "code",
   "execution_count": 2,
   "metadata": {},
   "outputs": [],
   "source": [
    "okt.pos(text) #품사 태깅"
   ]
  },
  {
   "cell_type": "code",
   "execution_count": 13,
   "metadata": {
    "collapsed": true
   },
   "outputs": [],
   "source": [
    "#문장 단위로 tokenizing 가능\n",
    "#token: 긴 문자열을 분석을 위해 나눈 단위\n",
    "sentences=kkma.sentences(text) #Kkma 클래스에만 존재하는 토크나이저"
   ]
  },
  {
   "cell_type": "code",
   "execution_count": 21,
   "metadata": {},
   "outputs": [
    {
     "data": {
      "text/plain": [
       "'대한민국 헌법 유구한 역사와 전통에 빛나는 우리 대한 국민은 3·1 운동으로 건립된 대한민국 임시정부의 법통과 불의에 항거한 4·19 민주이념을 계승하고, 조국의 민주개혁과 평화적 통일의 사명에 입각하여 정의· 인도와 동포애로써 민족의 단결을 공고히 하고, 모든 사회적 폐습과 불의를 타파하며, 자율과 조화를 바탕으로 자유 민주적 기본질서를 더욱 확고히 하여 정치· 경제· 사회· 문화의 모든 영역에 있어서 각인의 기회를 균등 히 하고, 능력을 최고도로 발휘하게 하며, 자유와 권리에 따르는 책임과 의무를 완수하게 하여, 안으로는 국민생활의 균등한 향상을 기하고 밖으로는 항구적인 세계평화와 인류 공영에 이바지함으로써 우리들과 우리들의 자손의 안전과 자유와 행복을 영원히 확보할 것을 다짐하면서 1948년 7월 12일에 제정되고 8차에 걸쳐 개정된 헌법을 이제 국회의 의결을 거쳐 국민투표에 의하여 개정한다.'"
      ]
     },
     "execution_count": 21,
     "metadata": {},
     "output_type": "execute_result"
    }
   ],
   "source": [
    "sentences[0]"
   ]
  },
  {
   "cell_type": "code",
   "execution_count": 15,
   "metadata": {
    "collapsed": true
   },
   "outputs": [],
   "source": [
    "result=list()\n",
    "\n",
    "for sentence in sentences:\n",
    "    tokens=okt.pos(sentence)\n",
    "    result.append(tokens)"
   ]
  },
  {
   "cell_type": "code",
   "execution_count": 17,
   "metadata": {
    "collapsed": true
   },
   "outputs": [],
   "source": [
    "#품사가 명사인 단어들만 추리기\n",
    "\n",
    "nouns=[]\n",
    "\n",
    "for each_list in result:\n",
    "    for each_tuple in each_list:\n",
    "        if each_tuple[1]==\"Noun\":\n",
    "            nouns.append(each_tuple[0])"
   ]
  },
  {
   "cell_type": "code",
   "execution_count": 18,
   "metadata": {
    "collapsed": true
   },
   "outputs": [],
   "source": [
    "#명사 빈도수 확인하기\n",
    "\n",
    "import collections\n",
    "from collections import Counter"
   ]
  },
  {
   "cell_type": "code",
   "execution_count": 19,
   "metadata": {
    "scrolled": true
   },
   "outputs": [
    {
     "data": {
      "text/plain": [
       "[('제', 178),\n",
       " ('조', 136),\n",
       " ('법률', 127),\n",
       " ('수', 88),\n",
       " ('대통령', 84),\n",
       " ('국가', 73),\n",
       " ('국회', 68),\n",
       " ('국민', 62),\n",
       " ('헌법', 55),\n",
       " ('때', 55),\n",
       " ('그', 47),\n",
       " ('이', 38),\n",
       " ('모든', 37),\n",
       " ('바', 37),\n",
       " ('기타', 26),\n",
       " ('및', 25),\n",
       " ('사항', 23),\n",
       " ('자유', 21),\n",
       " ('권리', 21),\n",
       " ('안', 21),\n",
       " ('선거', 21),\n",
       " ('의원', 21),\n",
       " ('경제', 20),\n",
       " ('일', 20),\n",
       " ('정부', 20),\n",
       " ('임명', 20),\n",
       " ('직무', 19),\n",
       " ('의무', 18),\n",
       " ('정당', 18),\n",
       " ('조직', 18),\n",
       " ('국회의원', 18),\n",
       " ('임기', 18),\n",
       " ('공무원', 17),\n",
       " ('경우', 17),\n",
       " ('이상', 17),\n",
       " ('국무위원', 17),\n",
       " ('대법원', 17),\n",
       " ('의결', 16),\n",
       " ('범위', 16),\n",
       " ('장', 15),\n",
       " ('항의', 15),\n",
       " ('정책', 14),\n",
       " ('헌법재판소', 14),\n",
       " ('재적', 14),\n",
       " ('회의', 14),\n",
       " ('진', 13),\n",
       " ('법원', 13),\n",
       " ('재판', 13),\n",
       " ('국무총리', 13),\n",
       " ('년', 12),\n",
       " ('심판', 12),\n",
       " ('집회', 12),\n",
       " ('시행', 12),\n",
       " ('인', 12),\n",
       " ('찬성', 12),\n",
       " ('행정', 12),\n",
       " ('자문', 12),\n",
       " ('대한민국', 11),\n",
       " ('대한', 11),\n",
       " ('공포', 11),\n",
       " ('조약', 11),\n",
       " ('법관', 11),\n",
       " ('다만', 11),\n",
       " ('동의', 11),\n",
       " ('관리', 11),\n",
       " ('탄핵', 11),\n",
       " ('권한', 11),\n",
       " ('안전보장', 10),\n",
       " ('처분', 10),\n",
       " ('중', 10),\n",
       " ('과반수', 10),\n",
       " ('민주', 9),\n",
       " ('기본', 9),\n",
       " ('정치', 9),\n",
       " ('개정', 9),\n",
       " ('효력', 9),\n",
       " ('보호', 9),\n",
       " ('체포', 9),\n",
       " ('절차', 9),\n",
       " ('형사', 9),\n",
       " ('단체', 9),\n",
       " ('근로', 9),\n",
       " ('출석', 9),\n",
       " ('위원회', 9),\n",
       " ('각부', 9),\n",
       " ('위원', 9),\n",
       " ('명령', 9),\n",
       " ('관', 9),\n",
       " ('법', 8),\n",
       " ('사회', 8),\n",
       " ('질서', 8),\n",
       " ('제정', 8),\n",
       " ('구속', 8),\n",
       " ('공공', 8),\n",
       " ('필요', 8),\n",
       " ('확정', 8),\n",
       " ('요구', 8),\n",
       " ('상의', 8),\n",
       " ('분', 8),\n",
       " ('항', 8)]"
      ]
     },
     "execution_count": 19,
     "metadata": {},
     "output_type": "execute_result"
    }
   ],
   "source": [
    "Counter(nouns).most_common(100)"
   ]
  }
 ],
 "metadata": {
  "kernelspec": {
   "display_name": "Python 3",
   "language": "python",
   "name": "python3"
  },
  "language_info": {
   "codemirror_mode": {
    "name": "ipython",
    "version": 3
   },
   "file_extension": ".py",
   "mimetype": "text/x-python",
   "name": "python",
   "nbconvert_exporter": "python",
   "pygments_lexer": "ipython3",
   "version": "3.6.3"
  }
 },
 "nbformat": 4,
 "nbformat_minor": 2
}
